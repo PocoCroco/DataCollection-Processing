{
 "cells": [
  {
   "cell_type": "code",
   "execution_count": 6,
   "id": "ba3cde52",
   "metadata": {},
   "outputs": [],
   "source": [
    "import requests\n",
    "import json"
   ]
  },
  {
   "cell_type": "markdown",
   "id": "687b6fd4",
   "metadata": {},
   "source": [
    "### Задание 1"
   ]
  },
  {
   "cell_type": "code",
   "execution_count": 7,
   "id": "b5bef213",
   "metadata": {},
   "outputs": [],
   "source": [
    "url = 'https://api.github.com'\n",
    "user='PocoCroco'"
   ]
  },
  {
   "cell_type": "code",
   "execution_count": 8,
   "id": "15e60a6b",
   "metadata": {},
   "outputs": [],
   "source": [
    "r = requests.get(f'{url}/users/{user}/repos')"
   ]
  },
  {
   "cell_type": "code",
   "execution_count": 9,
   "id": "82fbaf33",
   "metadata": {},
   "outputs": [],
   "source": [
    "with open('data.json', 'w') as f:\n",
    "    json.dump(r.json(), f)"
   ]
  },
  {
   "cell_type": "code",
   "execution_count": 10,
   "id": "613c01cd",
   "metadata": {},
   "outputs": [
    {
     "name": "stdout",
     "output_type": "stream",
     "text": [
      "MyTasks\n",
      "project\n",
      "pythonbasis\n",
      "repo-github\n"
     ]
    }
   ],
   "source": [
    "for i in r.json():\n",
    "    print(i['name'])"
   ]
  },
  {
   "cell_type": "markdown",
   "id": "e5474b3d",
   "metadata": {},
   "source": [
    "### Задание 2"
   ]
  },
  {
   "cell_type": "code",
   "execution_count": 46,
   "id": "4ff11090",
   "metadata": {},
   "outputs": [],
   "source": [
    "url = 'https://api.vk.com/method/groups.getById'\n",
    "token = '5521ba28c13158f462cf825522e02524534247a280d8129d943213d48dac928faa6ed167a7f539f3d2b49'"
   ]
  },
  {
   "cell_type": "code",
   "execution_count": 47,
   "id": "61f288f1",
   "metadata": {},
   "outputs": [],
   "source": [
    "my_headers = {'User-agent': 'Mozilla/5.0 (Windows NT 10.0; Win64; x64) AppleWebKit/537.36 (KHTML, like Gecko) Chrome/92.0.4515.131 Safari/537.36',\n",
    "              'Accept': '*/*'}"
   ]
  },
  {
   "cell_type": "code",
   "execution_count": 75,
   "id": "bc633a1f",
   "metadata": {},
   "outputs": [],
   "source": [
    "my_params = {'access_token': token,\n",
    "             'v': 5.52,\n",
    "             'group_ids': 'atticista',\n",
    "             'fields': 'members_count'}"
   ]
  },
  {
   "cell_type": "code",
   "execution_count": 76,
   "id": "bf407f53",
   "metadata": {},
   "outputs": [],
   "source": [
    "response = requests.get(url, params=my_params, headers=my_headers)"
   ]
  },
  {
   "cell_type": "code",
   "execution_count": 77,
   "id": "6ca921b0",
   "metadata": {},
   "outputs": [],
   "source": [
    "j_data = response.json()"
   ]
  },
  {
   "cell_type": "code",
   "execution_count": 78,
   "id": "17239e9a",
   "metadata": {
    "scrolled": true
   },
   "outputs": [
    {
     "name": "stdout",
     "output_type": "stream",
     "text": [
      "{'response': [{'id': 70079725, 'name': 'ATTICISTA', 'screen_name': 'atticista', 'is_closed': 0, 'type': 'group', 'photo_50': 'https://sun7-14.userapi.com/s/v1/ig2/Zw4mjICbuWSOx2qm8AVGjoLVO1ksiSovzsDY35GrIpdRGCRx3f3biyUeXRvVe6ffVA2yBalZNikYe5Kapqw36ZH8.jpg?size=50x50&quality=95&crop=280,122,439,439&ava=1', 'photo_100': 'https://sun7-14.userapi.com/s/v1/ig2/oqWRwJAWEONZbh3Je_exsF1EL6w2daDRjD7kYx8E6ih9f0Bcbagg_yuANkSBQtmJtAcz2S4Ye1M29X3dxEQEgjdQ.jpg?size=100x100&quality=95&crop=280,122,439,439&ava=1', 'photo_200': 'https://sun7-14.userapi.com/s/v1/ig2/4KyNgBIlp2x3mqcNKJLJoySZZU9ztvXDBdZFMVMWUA-pb2_omP3M4Tu3edor8EMSsWsk4wYUqRtpN8J4eLwm03Xu.jpg?size=200x200&quality=95&crop=280,122,439,439&ava=1', 'members_count': 42204}]}\n"
     ]
    }
   ],
   "source": [
    "print(j_data)"
   ]
  },
  {
   "cell_type": "code",
   "execution_count": 80,
   "id": "0a6771a8",
   "metadata": {},
   "outputs": [],
   "source": [
    "with open('data_2.json', 'w') as f:\n",
    "    json.dump(j_data, f)"
   ]
  },
  {
   "cell_type": "code",
   "execution_count": null,
   "id": "185865e4",
   "metadata": {},
   "outputs": [],
   "source": []
  }
 ],
 "metadata": {
  "kernelspec": {
   "display_name": "Python 3",
   "language": "python",
   "name": "python3"
  },
  "language_info": {
   "codemirror_mode": {
    "name": "ipython",
    "version": 3
   },
   "file_extension": ".py",
   "mimetype": "text/x-python",
   "name": "python",
   "nbconvert_exporter": "python",
   "pygments_lexer": "ipython3",
   "version": "3.8.8"
  }
 },
 "nbformat": 4,
 "nbformat_minor": 5
}
