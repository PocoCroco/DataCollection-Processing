{
 "cells": [
  {
   "cell_type": "code",
   "execution_count": 1,
   "id": "dacce376",
   "metadata": {},
   "outputs": [],
   "source": [
    "from bs4 import BeautifulSoup as bs"
   ]
  },
  {
   "cell_type": "code",
   "execution_count": 2,
   "id": "5cc7ba54",
   "metadata": {},
   "outputs": [],
   "source": [
    "import requests"
   ]
  },
  {
   "cell_type": "code",
   "execution_count": 3,
   "id": "b6ce264b",
   "metadata": {},
   "outputs": [],
   "source": [
    "import pprint"
   ]
  },
  {
   "cell_type": "code",
   "execution_count": 4,
   "id": "ef8f93ba",
   "metadata": {},
   "outputs": [],
   "source": [
    "import pandas as pd"
   ]
  },
  {
   "cell_type": "code",
   "execution_count": 5,
   "id": "313d9c4d",
   "metadata": {},
   "outputs": [],
   "source": [
    "url = 'https://roscontrol.com/category/produkti/'"
   ]
  },
  {
   "cell_type": "code",
   "execution_count": 6,
   "id": "3fc01355",
   "metadata": {},
   "outputs": [],
   "source": [
    "headers = {'User-agent': 'Mozilla/5.0 (Windows NT 10.0; Win64; x64) AppleWebKit/537.36 (KHTML, like Gecko) Chrome/92.0.4515.131 Safari/537.36',\n",
    "           'Accept': '*/*'}"
   ]
  },
  {
   "cell_type": "code",
   "execution_count": 7,
   "id": "1e434864",
   "metadata": {},
   "outputs": [],
   "source": [
    "cat_selection = requests.get(url, headers=headers)"
   ]
  },
  {
   "cell_type": "code",
   "execution_count": 8,
   "id": "b505c42d",
   "metadata": {},
   "outputs": [],
   "source": [
    "soup = bs(cat_selection.text, 'html.parser')"
   ]
  },
  {
   "cell_type": "code",
   "execution_count": 9,
   "id": "9e755017",
   "metadata": {},
   "outputs": [],
   "source": [
    "cat_names = soup.find_all('div',attrs={'class':'catalog__category-name'})"
   ]
  },
  {
   "cell_type": "code",
   "execution_count": 10,
   "id": "5a9e6f34",
   "metadata": {},
   "outputs": [],
   "source": [
    "for i in range(len(cat_names)):\n",
    "    cat_names[i] = cat_names[i].string"
   ]
  },
  {
   "cell_type": "code",
   "execution_count": 11,
   "id": "0d24e9a2",
   "metadata": {
    "scrolled": true
   },
   "outputs": [],
   "source": [
    "cat_links = soup.find_all('a',attrs={'class':'catalog__category-item'})"
   ]
  },
  {
   "cell_type": "code",
   "execution_count": 12,
   "id": "89574042",
   "metadata": {},
   "outputs": [],
   "source": [
    "for i in range(len(cat_links)):\n",
    "    cat_links[i] = cat_links[i]['href'].replace('/category/produkti/', '')"
   ]
  },
  {
   "cell_type": "code",
   "execution_count": 13,
   "id": "f52fcfd6",
   "metadata": {
    "scrolled": true
   },
   "outputs": [],
   "source": [
    "categories = {\n",
    "    \"Наименование\": cat_names,\n",
    "    \"Ссылка\": cat_links\n",
    "}\n",
    "\n",
    "categories = pd.DataFrame(categories)"
   ]
  },
  {
   "cell_type": "code",
   "execution_count": 14,
   "id": "ba9bbc5c",
   "metadata": {
    "scrolled": false
   },
   "outputs": [
    {
     "name": "stdout",
     "output_type": "stream",
     "text": [
      "0                       Молочные продукты \n",
      "1                         Мясные продукты \n",
      "2                                   Птица \n",
      "3                     Рыба и морепродукты \n",
      "4                     Вода, соки, напитки \n",
      "5                   Хлебобулочные изделия \n",
      "6                         Детское питание \n",
      "7                                    Яйца \n",
      "8                                 Бакалея \n",
      "9                         Горячие напитки \n",
      "10                   Кондитерские изделия \n",
      "11                    Алкогольные напитки \n",
      "12                                  Соусы \n",
      "13                          Полуфабрикаты \n",
      "14                     Растительное масло \n",
      "15                               Консервы \n",
      "16                                  Снеки \n",
      "17                   Фрукты, овощи, грибы \n",
      "18                              Маргарины \n",
      "19     Готовые блюда и кулинарные изделия \n",
      "Name: Наименование, dtype: object1\n"
     ]
    }
   ],
   "source": [
    "category = categories.loc[int(input(categories[\"Наименование\"])), \"Ссылка\"]"
   ]
  },
  {
   "cell_type": "code",
   "execution_count": 15,
   "id": "ef35f888",
   "metadata": {
    "scrolled": true
   },
   "outputs": [],
   "source": [
    "subcat_selection = requests.get(url + category, headers=headers)"
   ]
  },
  {
   "cell_type": "code",
   "execution_count": 16,
   "id": "2a5b8d93",
   "metadata": {
    "scrolled": true
   },
   "outputs": [],
   "source": [
    "soup = bs(subcat_selection.text, 'html.parser')"
   ]
  },
  {
   "cell_type": "code",
   "execution_count": 17,
   "id": "c31767c9",
   "metadata": {
    "scrolled": false
   },
   "outputs": [
    {
     "name": "stdout",
     "output_type": "stream",
     "text": [
      "0                             Колбаса вареная \n",
      "1      Полукопченая и варено-копченая колбаса \n",
      "2                         Сосиски и сардельки \n",
      "3                                     Ветчина \n",
      "4                                        Фарш \n",
      "5                             Мясные консервы \n",
      "6                          Мясная гастрономия \n",
      "7                                     Паштеты \n",
      "8                          Пельмени и хинкали \n",
      "9                    Аналоги мясных продуктов \n",
      "10                                       Мясо \n",
      "11                       Сырокопченая колбаса \n",
      "12                       Полуфабрикаты мясные \n",
      "13                         Субпродукты мясные \n",
      "Name: Наименование, dtype: object0\n"
     ]
    }
   ],
   "source": [
    "subcat_names = soup.find_all('div',attrs={'class':'catalog__category-name'})\n",
    "\n",
    "if subcat_names:\n",
    "    for i in range(len(subcat_names)):\n",
    "        subcat_names[i] = subcat_names[i].string\n",
    "\n",
    "    subcat_links = soup.find_all('a',attrs={'class':'catalog__category-item'})\n",
    "\n",
    "    for i in range(len(subcat_links)):\n",
    "        subcat_links[i] = subcat_links[i]['href'].replace('/category/produkti/' + category, '')\n",
    "\n",
    "    subcategories = {\n",
    "        \"Наименование\": subcat_names,\n",
    "        \"Ссылка\": subcat_links\n",
    "    }\n",
    "\n",
    "    subcategories = pd.DataFrame(subcategories)\n",
    "    subcategory = subcategories.loc[int(input(subcategories[\"Наименование\"])), \"Ссылка\"]\n",
    "else:\n",
    "    subcategory = ''"
   ]
  },
  {
   "cell_type": "code",
   "execution_count": 18,
   "id": "fc3904c0",
   "metadata": {
    "scrolled": true
   },
   "outputs": [
    {
     "name": "stdout",
     "output_type": "stream",
     "text": [
      "4\n"
     ]
    }
   ],
   "source": [
    "response = requests.get(url + category + subcategory, headers=headers)\n",
    "soup = bs(response.text, 'html.parser')\n",
    "pages = soup.find_all('a', attrs={'class':'page-num'})\n",
    "if pages:\n",
    "    pages_count = len(pages) - 1\n",
    "else:\n",
    "    pages_count = 1\n",
    "print(pages_count)"
   ]
  },
  {
   "cell_type": "code",
   "execution_count": 19,
   "id": "146624d7",
   "metadata": {
    "scrolled": true
   },
   "outputs": [],
   "source": [
    "for p in range(pages_count):\n",
    "    params = {'page':p+1}\n",
    "    response = requests.get(url + category + subcategory, headers=headers, params=params)\n",
    "    soup = bs(response.text, 'html.parser')\n",
    "    products = soup.find_all('div', attrs={'class':'wrap-product-catalog__item'})\n",
    "    products_list = []\n",
    "    for product in products:\n",
    "        product_data = {}\n",
    "        name = product.find('div', attrs={'class':'product__item-link'}).getText()\n",
    "        link = 'https://roscontrol.com' + product.contents[1]['href']\n",
    "        try:\n",
    "            rating_status = product.find('div', attrs={'class':'rating-total-text'}).string\n",
    "        except AttributeError:\n",
    "            rating_status = False\n",
    "        if rating_status == 'Общая оценка':\n",
    "            total_rating = int(product.find('div', attrs={'class':'product-rating'}).contents[1].getText())\n",
    "            rating_block = product.find('div', attrs={'class':'rating-block'})\n",
    "            for row in rating_block.findChildren(recursive=False):\n",
    "                parameter = row.findChildren(recursive=False)[0].findChildren(recursive=False)[0].getText()\n",
    "                value = int(row.findChildren(recursive=False)[1].getText())\n",
    "                product_data[parameter] = value\n",
    "        elif rating_status == 'В чёрном списке':\n",
    "            total_rating = 'В чёрном списке'\n",
    "        elif not rating_status:\n",
    "            total_rating = 'Нет информации о товаре'\n",
    "        product_data['Наименование'] = name\n",
    "        product_data['Ссылка'] = link\n",
    "        product_data['Общий рейтинг'] = total_rating\n",
    "\n",
    "        products_list.append(product_data)\n",
    "    if p == 0:\n",
    "        df_products = pd.DataFrame(products_list)\n",
    "    else:\n",
    "        df_products = pd.concat([df_products, pd.DataFrame(products_list)], axis=0, ignore_index=True)"
   ]
  },
  {
   "cell_type": "code",
   "execution_count": 20,
   "id": "11be102b",
   "metadata": {
    "scrolled": true
   },
   "outputs": [
    {
     "data": {
      "text/html": [
       "<div>\n",
       "<style scoped>\n",
       "    .dataframe tbody tr th:only-of-type {\n",
       "        vertical-align: middle;\n",
       "    }\n",
       "\n",
       "    .dataframe tbody tr th {\n",
       "        vertical-align: top;\n",
       "    }\n",
       "\n",
       "    .dataframe thead th {\n",
       "        text-align: right;\n",
       "    }\n",
       "</style>\n",
       "<table border=\"1\" class=\"dataframe\">\n",
       "  <thead>\n",
       "    <tr style=\"text-align: right;\">\n",
       "      <th></th>\n",
       "      <th>Безопасность</th>\n",
       "      <th>Натуральность</th>\n",
       "      <th>Пищевая ценность</th>\n",
       "      <th>Качество</th>\n",
       "      <th>Наименование</th>\n",
       "      <th>Ссылка</th>\n",
       "      <th>Общий рейтинг</th>\n",
       "    </tr>\n",
       "  </thead>\n",
       "  <tbody>\n",
       "    <tr>\n",
       "      <th>0</th>\n",
       "      <td>70.0</td>\n",
       "      <td>30.0</td>\n",
       "      <td>10.0</td>\n",
       "      <td>56.0</td>\n",
       "      <td>Колбаса \"Клинский\" \"Телячья\"</td>\n",
       "      <td>https://roscontrol.com/product/kolbasa-klinski...</td>\n",
       "      <td>42</td>\n",
       "    </tr>\n",
       "    <tr>\n",
       "      <th>1</th>\n",
       "      <td>77.0</td>\n",
       "      <td>50.0</td>\n",
       "      <td>1.0</td>\n",
       "      <td>77.0</td>\n",
       "      <td>\"Окраина\", \"Русская\"</td>\n",
       "      <td>https://roscontrol.com/product/kolbasa-russkay...</td>\n",
       "      <td>51</td>\n",
       "    </tr>\n",
       "    <tr>\n",
       "      <th>2</th>\n",
       "      <td>49.0</td>\n",
       "      <td>50.0</td>\n",
       "      <td>24.0</td>\n",
       "      <td>82.0</td>\n",
       "      <td>Колбаса \"Окраина\", \"Докторская\"</td>\n",
       "      <td>https://roscontrol.com/product/kolbasa-okraina...</td>\n",
       "      <td>51</td>\n",
       "    </tr>\n",
       "    <tr>\n",
       "      <th>3</th>\n",
       "      <td>56.0</td>\n",
       "      <td>40.0</td>\n",
       "      <td>13.0</td>\n",
       "      <td>76.0</td>\n",
       "      <td>Колбаса \"Мираторг\", \"Докторская</td>\n",
       "      <td>https://roscontrol.com/product/kolbasa-mirator...</td>\n",
       "      <td>46</td>\n",
       "    </tr>\n",
       "    <tr>\n",
       "      <th>4</th>\n",
       "      <td>49.0</td>\n",
       "      <td>55.0</td>\n",
       "      <td>22.0</td>\n",
       "      <td>78.0</td>\n",
       "      <td>\"Велком\", \"Докторская\"</td>\n",
       "      <td>https://roscontrol.com/product/velkom-doktorsk...</td>\n",
       "      <td>51</td>\n",
       "    </tr>\n",
       "    <tr>\n",
       "      <th>...</th>\n",
       "      <td>...</td>\n",
       "      <td>...</td>\n",
       "      <td>...</td>\n",
       "      <td>...</td>\n",
       "      <td>...</td>\n",
       "      <td>...</td>\n",
       "      <td>...</td>\n",
       "    </tr>\n",
       "    <tr>\n",
       "      <th>60</th>\n",
       "      <td>NaN</td>\n",
       "      <td>NaN</td>\n",
       "      <td>NaN</td>\n",
       "      <td>NaN</td>\n",
       "      <td>\"КампоМос\", \"Дикий кабан\"</td>\n",
       "      <td>https://roscontrol.com/product/kolbasa-varenay...</td>\n",
       "      <td>В чёрном списке</td>\n",
       "    </tr>\n",
       "    <tr>\n",
       "      <th>61</th>\n",
       "      <td>NaN</td>\n",
       "      <td>NaN</td>\n",
       "      <td>NaN</td>\n",
       "      <td>NaN</td>\n",
       "      <td>\"ТД Рублевский\", \"Докторская\"</td>\n",
       "      <td>https://roscontrol.com/product/td-rublevskiy-d...</td>\n",
       "      <td>В чёрном списке</td>\n",
       "    </tr>\n",
       "    <tr>\n",
       "      <th>62</th>\n",
       "      <td>NaN</td>\n",
       "      <td>NaN</td>\n",
       "      <td>NaN</td>\n",
       "      <td>NaN</td>\n",
       "      <td>\"Черкизовский МПЗ\", \"Докторская\"</td>\n",
       "      <td>https://roscontrol.com/product/cherkizovskiy-m...</td>\n",
       "      <td>В чёрном списке</td>\n",
       "    </tr>\n",
       "    <tr>\n",
       "      <th>63</th>\n",
       "      <td>NaN</td>\n",
       "      <td>NaN</td>\n",
       "      <td>NaN</td>\n",
       "      <td>NaN</td>\n",
       "      <td>Колбаса вареная \"Докторская\" ГОСТ</td>\n",
       "      <td>https://roscontrol.com/product/kolbasa-variena...</td>\n",
       "      <td>Нет информации о товаре</td>\n",
       "    </tr>\n",
       "    <tr>\n",
       "      <th>64</th>\n",
       "      <td>NaN</td>\n",
       "      <td>NaN</td>\n",
       "      <td>NaN</td>\n",
       "      <td>NaN</td>\n",
       "      <td>\"Русский сорт\", рулет из курицы диетический</td>\n",
       "      <td>https://roscontrol.com/product/russkiy-sort-ru...</td>\n",
       "      <td>Нет информации о товаре</td>\n",
       "    </tr>\n",
       "  </tbody>\n",
       "</table>\n",
       "<p>65 rows × 7 columns</p>\n",
       "</div>"
      ],
      "text/plain": [
       "    Безопасность  Натуральность  Пищевая ценность  Качество  \\\n",
       "0           70.0           30.0              10.0      56.0   \n",
       "1           77.0           50.0               1.0      77.0   \n",
       "2           49.0           50.0              24.0      82.0   \n",
       "3           56.0           40.0              13.0      76.0   \n",
       "4           49.0           55.0              22.0      78.0   \n",
       "..           ...            ...               ...       ...   \n",
       "60           NaN            NaN               NaN       NaN   \n",
       "61           NaN            NaN               NaN       NaN   \n",
       "62           NaN            NaN               NaN       NaN   \n",
       "63           NaN            NaN               NaN       NaN   \n",
       "64           NaN            NaN               NaN       NaN   \n",
       "\n",
       "                                   Наименование  \\\n",
       "0                  Колбаса \"Клинский\" \"Телячья\"   \n",
       "1                          \"Окраина\", \"Русская\"   \n",
       "2               Колбаса \"Окраина\", \"Докторская\"   \n",
       "3               Колбаса \"Мираторг\", \"Докторская   \n",
       "4                        \"Велком\", \"Докторская\"   \n",
       "..                                          ...   \n",
       "60                    \"КампоМос\", \"Дикий кабан\"   \n",
       "61                \"ТД Рублевский\", \"Докторская\"   \n",
       "62             \"Черкизовский МПЗ\", \"Докторская\"   \n",
       "63            Колбаса вареная \"Докторская\" ГОСТ   \n",
       "64  \"Русский сорт\", рулет из курицы диетический   \n",
       "\n",
       "                                               Ссылка            Общий рейтинг  \n",
       "0   https://roscontrol.com/product/kolbasa-klinski...                       42  \n",
       "1   https://roscontrol.com/product/kolbasa-russkay...                       51  \n",
       "2   https://roscontrol.com/product/kolbasa-okraina...                       51  \n",
       "3   https://roscontrol.com/product/kolbasa-mirator...                       46  \n",
       "4   https://roscontrol.com/product/velkom-doktorsk...                       51  \n",
       "..                                                ...                      ...  \n",
       "60  https://roscontrol.com/product/kolbasa-varenay...          В чёрном списке  \n",
       "61  https://roscontrol.com/product/td-rublevskiy-d...          В чёрном списке  \n",
       "62  https://roscontrol.com/product/cherkizovskiy-m...          В чёрном списке  \n",
       "63  https://roscontrol.com/product/kolbasa-variena...  Нет информации о товаре  \n",
       "64  https://roscontrol.com/product/russkiy-sort-ru...  Нет информации о товаре  \n",
       "\n",
       "[65 rows x 7 columns]"
      ]
     },
     "execution_count": 20,
     "metadata": {},
     "output_type": "execute_result"
    }
   ],
   "source": [
    "df_products"
   ]
  },
  {
   "cell_type": "code",
   "execution_count": 21,
   "id": "7ca596ba",
   "metadata": {},
   "outputs": [],
   "source": [
    "df_products.fillna(0, inplace = True)"
   ]
  },
  {
   "cell_type": "code",
   "execution_count": 22,
   "id": "57525613",
   "metadata": {},
   "outputs": [
    {
     "data": {
      "text/html": [
       "<div>\n",
       "<style scoped>\n",
       "    .dataframe tbody tr th:only-of-type {\n",
       "        vertical-align: middle;\n",
       "    }\n",
       "\n",
       "    .dataframe tbody tr th {\n",
       "        vertical-align: top;\n",
       "    }\n",
       "\n",
       "    .dataframe thead th {\n",
       "        text-align: right;\n",
       "    }\n",
       "</style>\n",
       "<table border=\"1\" class=\"dataframe\">\n",
       "  <thead>\n",
       "    <tr style=\"text-align: right;\">\n",
       "      <th></th>\n",
       "      <th>Безопасность</th>\n",
       "      <th>Натуральность</th>\n",
       "      <th>Пищевая ценность</th>\n",
       "      <th>Качество</th>\n",
       "      <th>Наименование</th>\n",
       "      <th>Ссылка</th>\n",
       "      <th>Общий рейтинг</th>\n",
       "    </tr>\n",
       "  </thead>\n",
       "  <tbody>\n",
       "    <tr>\n",
       "      <th>0</th>\n",
       "      <td>70.0</td>\n",
       "      <td>30.0</td>\n",
       "      <td>10.0</td>\n",
       "      <td>56.0</td>\n",
       "      <td>Колбаса \"Клинский\" \"Телячья\"</td>\n",
       "      <td>https://roscontrol.com/product/kolbasa-klinski...</td>\n",
       "      <td>42</td>\n",
       "    </tr>\n",
       "    <tr>\n",
       "      <th>1</th>\n",
       "      <td>77.0</td>\n",
       "      <td>50.0</td>\n",
       "      <td>1.0</td>\n",
       "      <td>77.0</td>\n",
       "      <td>\"Окраина\", \"Русская\"</td>\n",
       "      <td>https://roscontrol.com/product/kolbasa-russkay...</td>\n",
       "      <td>51</td>\n",
       "    </tr>\n",
       "    <tr>\n",
       "      <th>2</th>\n",
       "      <td>49.0</td>\n",
       "      <td>50.0</td>\n",
       "      <td>24.0</td>\n",
       "      <td>82.0</td>\n",
       "      <td>Колбаса \"Окраина\", \"Докторская\"</td>\n",
       "      <td>https://roscontrol.com/product/kolbasa-okraina...</td>\n",
       "      <td>51</td>\n",
       "    </tr>\n",
       "    <tr>\n",
       "      <th>3</th>\n",
       "      <td>56.0</td>\n",
       "      <td>40.0</td>\n",
       "      <td>13.0</td>\n",
       "      <td>76.0</td>\n",
       "      <td>Колбаса \"Мираторг\", \"Докторская</td>\n",
       "      <td>https://roscontrol.com/product/kolbasa-mirator...</td>\n",
       "      <td>46</td>\n",
       "    </tr>\n",
       "    <tr>\n",
       "      <th>4</th>\n",
       "      <td>49.0</td>\n",
       "      <td>55.0</td>\n",
       "      <td>22.0</td>\n",
       "      <td>78.0</td>\n",
       "      <td>\"Велком\", \"Докторская\"</td>\n",
       "      <td>https://roscontrol.com/product/velkom-doktorsk...</td>\n",
       "      <td>51</td>\n",
       "    </tr>\n",
       "    <tr>\n",
       "      <th>...</th>\n",
       "      <td>...</td>\n",
       "      <td>...</td>\n",
       "      <td>...</td>\n",
       "      <td>...</td>\n",
       "      <td>...</td>\n",
       "      <td>...</td>\n",
       "      <td>...</td>\n",
       "    </tr>\n",
       "    <tr>\n",
       "      <th>60</th>\n",
       "      <td>0.0</td>\n",
       "      <td>0.0</td>\n",
       "      <td>0.0</td>\n",
       "      <td>0.0</td>\n",
       "      <td>\"КампоМос\", \"Дикий кабан\"</td>\n",
       "      <td>https://roscontrol.com/product/kolbasa-varenay...</td>\n",
       "      <td>В чёрном списке</td>\n",
       "    </tr>\n",
       "    <tr>\n",
       "      <th>61</th>\n",
       "      <td>0.0</td>\n",
       "      <td>0.0</td>\n",
       "      <td>0.0</td>\n",
       "      <td>0.0</td>\n",
       "      <td>\"ТД Рублевский\", \"Докторская\"</td>\n",
       "      <td>https://roscontrol.com/product/td-rublevskiy-d...</td>\n",
       "      <td>В чёрном списке</td>\n",
       "    </tr>\n",
       "    <tr>\n",
       "      <th>62</th>\n",
       "      <td>0.0</td>\n",
       "      <td>0.0</td>\n",
       "      <td>0.0</td>\n",
       "      <td>0.0</td>\n",
       "      <td>\"Черкизовский МПЗ\", \"Докторская\"</td>\n",
       "      <td>https://roscontrol.com/product/cherkizovskiy-m...</td>\n",
       "      <td>В чёрном списке</td>\n",
       "    </tr>\n",
       "    <tr>\n",
       "      <th>63</th>\n",
       "      <td>0.0</td>\n",
       "      <td>0.0</td>\n",
       "      <td>0.0</td>\n",
       "      <td>0.0</td>\n",
       "      <td>Колбаса вареная \"Докторская\" ГОСТ</td>\n",
       "      <td>https://roscontrol.com/product/kolbasa-variena...</td>\n",
       "      <td>Нет информации о товаре</td>\n",
       "    </tr>\n",
       "    <tr>\n",
       "      <th>64</th>\n",
       "      <td>0.0</td>\n",
       "      <td>0.0</td>\n",
       "      <td>0.0</td>\n",
       "      <td>0.0</td>\n",
       "      <td>\"Русский сорт\", рулет из курицы диетический</td>\n",
       "      <td>https://roscontrol.com/product/russkiy-sort-ru...</td>\n",
       "      <td>Нет информации о товаре</td>\n",
       "    </tr>\n",
       "  </tbody>\n",
       "</table>\n",
       "<p>65 rows × 7 columns</p>\n",
       "</div>"
      ],
      "text/plain": [
       "    Безопасность  Натуральность  Пищевая ценность  Качество  \\\n",
       "0           70.0           30.0              10.0      56.0   \n",
       "1           77.0           50.0               1.0      77.0   \n",
       "2           49.0           50.0              24.0      82.0   \n",
       "3           56.0           40.0              13.0      76.0   \n",
       "4           49.0           55.0              22.0      78.0   \n",
       "..           ...            ...               ...       ...   \n",
       "60           0.0            0.0               0.0       0.0   \n",
       "61           0.0            0.0               0.0       0.0   \n",
       "62           0.0            0.0               0.0       0.0   \n",
       "63           0.0            0.0               0.0       0.0   \n",
       "64           0.0            0.0               0.0       0.0   \n",
       "\n",
       "                                   Наименование  \\\n",
       "0                  Колбаса \"Клинский\" \"Телячья\"   \n",
       "1                          \"Окраина\", \"Русская\"   \n",
       "2               Колбаса \"Окраина\", \"Докторская\"   \n",
       "3               Колбаса \"Мираторг\", \"Докторская   \n",
       "4                        \"Велком\", \"Докторская\"   \n",
       "..                                          ...   \n",
       "60                    \"КампоМос\", \"Дикий кабан\"   \n",
       "61                \"ТД Рублевский\", \"Докторская\"   \n",
       "62             \"Черкизовский МПЗ\", \"Докторская\"   \n",
       "63            Колбаса вареная \"Докторская\" ГОСТ   \n",
       "64  \"Русский сорт\", рулет из курицы диетический   \n",
       "\n",
       "                                               Ссылка            Общий рейтинг  \n",
       "0   https://roscontrol.com/product/kolbasa-klinski...                       42  \n",
       "1   https://roscontrol.com/product/kolbasa-russkay...                       51  \n",
       "2   https://roscontrol.com/product/kolbasa-okraina...                       51  \n",
       "3   https://roscontrol.com/product/kolbasa-mirator...                       46  \n",
       "4   https://roscontrol.com/product/velkom-doktorsk...                       51  \n",
       "..                                                ...                      ...  \n",
       "60  https://roscontrol.com/product/kolbasa-varenay...          В чёрном списке  \n",
       "61  https://roscontrol.com/product/td-rublevskiy-d...          В чёрном списке  \n",
       "62  https://roscontrol.com/product/cherkizovskiy-m...          В чёрном списке  \n",
       "63  https://roscontrol.com/product/kolbasa-variena...  Нет информации о товаре  \n",
       "64  https://roscontrol.com/product/russkiy-sort-ru...  Нет информации о товаре  \n",
       "\n",
       "[65 rows x 7 columns]"
      ]
     },
     "execution_count": 22,
     "metadata": {},
     "output_type": "execute_result"
    }
   ],
   "source": [
    "df_products"
   ]
  },
  {
   "cell_type": "code",
   "execution_count": 23,
   "id": "3ddf75f3",
   "metadata": {},
   "outputs": [],
   "source": [
    "df_products.to_csv('df_products.csv', index=False)"
   ]
  },
  {
   "cell_type": "code",
   "execution_count": 24,
   "id": "3dcdf17c",
   "metadata": {},
   "outputs": [],
   "source": [
    "dict_products =  df_products.to_dict('records')"
   ]
  },
  {
   "cell_type": "markdown",
   "id": "0b2c2bfc",
   "metadata": {},
   "source": [
    "# Урок 3"
   ]
  },
  {
   "cell_type": "code",
   "execution_count": 25,
   "id": "74ba9544",
   "metadata": {},
   "outputs": [],
   "source": [
    "from pymongo import MongoClient\n",
    "from pprint import pprint"
   ]
  },
  {
   "cell_type": "code",
   "execution_count": 26,
   "id": "a4e1a67b",
   "metadata": {},
   "outputs": [],
   "source": [
    "client = MongoClient('127.0.0.1', 27017)"
   ]
  },
  {
   "cell_type": "code",
   "execution_count": 27,
   "id": "6e02734e",
   "metadata": {},
   "outputs": [],
   "source": [
    "db = client['products']"
   ]
  },
  {
   "cell_type": "code",
   "execution_count": 28,
   "id": "9dcaa6cd",
   "metadata": {},
   "outputs": [],
   "source": [
    "saussages = db.saussages"
   ]
  },
  {
   "cell_type": "code",
   "execution_count": 29,
   "id": "5e7e3c40",
   "metadata": {},
   "outputs": [],
   "source": [
    "def db_add(data):\n",
    "    saussages.insert_many(data)"
   ]
  },
  {
   "cell_type": "code",
   "execution_count": 30,
   "id": "c58c7f1d",
   "metadata": {},
   "outputs": [],
   "source": [
    "def db_add_or_update(data):\n",
    "    saussages_links = []\n",
    "    prod_added = 0\n",
    "    for x in saussages.find({}):\n",
    "        saussages_links.append(x['Ссылка'])\n",
    "    for y in data:\n",
    "        if y['Ссылка'] not in saussages_links:\n",
    "            saussages.insert_one(y)"
   ]
  },
  {
   "cell_type": "code",
   "execution_count": 32,
   "id": "16be3ded",
   "metadata": {},
   "outputs": [
    {
     "data": {
      "text/plain": [
       "<pymongo.results.DeleteResult at 0x2d3b73c8580>"
      ]
     },
     "execution_count": 32,
     "metadata": {},
     "output_type": "execute_result"
    }
   ],
   "source": [
    "saussages.delete_many({})"
   ]
  },
  {
   "cell_type": "code",
   "execution_count": 33,
   "id": "f05a0943",
   "metadata": {},
   "outputs": [],
   "source": [
    "db_add(dict_products)"
   ]
  },
  {
   "cell_type": "code",
   "execution_count": 34,
   "id": "ea22a610",
   "metadata": {},
   "outputs": [],
   "source": [
    "db_add_or_update(dict_products)"
   ]
  },
  {
   "cell_type": "code",
   "execution_count": 35,
   "id": "3b524a41",
   "metadata": {
    "scrolled": false
   },
   "outputs": [
    {
     "name": "stdout",
     "output_type": "stream",
     "text": [
      "Введите min значение: 70\n"
     ]
    }
   ],
   "source": [
    "min_value = int(input('Введите min значение: '))"
   ]
  },
  {
   "cell_type": "code",
   "execution_count": 36,
   "id": "6f55cb5e",
   "metadata": {
    "scrolled": true
   },
   "outputs": [],
   "source": [
    "def search_by(min_value):\n",
    "    result = []\n",
    "    for item in saussages.find({'$or':[{'Общий рейтинг': {'$gte': min_value}},{'Качество':{'$gte': min_value}}]}):\n",
    "        result.append(item)\n",
    "    return result"
   ]
  },
  {
   "cell_type": "code",
   "execution_count": 37,
   "id": "02ce2b2e",
   "metadata": {},
   "outputs": [],
   "source": [
    "selection = search_by(50)"
   ]
  },
  {
   "cell_type": "code",
   "execution_count": 38,
   "id": "5a47b7ca",
   "metadata": {},
   "outputs": [
    {
     "name": "stdout",
     "output_type": "stream",
     "text": [
      "[{'_id': ObjectId('61292f3ad1dabf3e72ff450e'),\n",
      "  'Безопасность': 70.0,\n",
      "  'Качество': 56.0,\n",
      "  'Наименование': 'Колбаса \"Клинский\" \"Телячья\"',\n",
      "  'Натуральность': 30.0,\n",
      "  'Общий рейтинг': 42,\n",
      "  'Пищевая ценность': 10.0,\n",
      "  'Ссылка': 'https://roscontrol.com/product/kolbasa-klinskiy-telyachya/'},\n",
      " {'_id': ObjectId('61292f3ad1dabf3e72ff450f'),\n",
      "  'Безопасность': 77.0,\n",
      "  'Качество': 77.0,\n",
      "  'Наименование': '\"Окраина\", \"Русская\"',\n",
      "  'Натуральность': 50.0,\n",
      "  'Общий рейтинг': 51,\n",
      "  'Пищевая ценность': 1.0,\n",
      "  'Ссылка': 'https://roscontrol.com/product/kolbasa-russkaya-okraina/'},\n",
      " {'_id': ObjectId('61292f3ad1dabf3e72ff4510'),\n",
      "  'Безопасность': 49.0,\n",
      "  'Качество': 82.0,\n",
      "  'Наименование': 'Колбаса \"Окраина\", \"Докторская\"',\n",
      "  'Натуральность': 50.0,\n",
      "  'Общий рейтинг': 51,\n",
      "  'Пищевая ценность': 24.0,\n",
      "  'Ссылка': 'https://roscontrol.com/product/kolbasa-okraina-doktorskaya/'},\n",
      " {'_id': ObjectId('61292f3ad1dabf3e72ff4511'),\n",
      "  'Безопасность': 56.0,\n",
      "  'Качество': 76.0,\n",
      "  'Наименование': 'Колбаса \"Мираторг\", \"Докторская',\n",
      "  'Натуральность': 40.0,\n",
      "  'Общий рейтинг': 46,\n",
      "  'Пищевая ценность': 13.0,\n",
      "  'Ссылка': 'https://roscontrol.com/product/kolbasa-miratorg-doktorskaya/'},\n",
      " {'_id': ObjectId('61292f3ad1dabf3e72ff4512'),\n",
      "  'Безопасность': 49.0,\n",
      "  'Качество': 78.0,\n",
      "  'Наименование': '\"Велком\", \"Докторская\"',\n",
      "  'Натуральность': 55.0,\n",
      "  'Общий рейтинг': 51,\n",
      "  'Пищевая ценность': 22.0,\n",
      "  'Ссылка': 'https://roscontrol.com/product/velkom-doktorskaya/'},\n",
      " {'_id': ObjectId('61292f3ad1dabf3e72ff4513'),\n",
      "  'Безопасность': 67.0,\n",
      "  'Качество': 63.0,\n",
      "  'Наименование': '\"Русская\", \"МясновЪ\"',\n",
      "  'Натуральность': 55.0,\n",
      "  'Общий рейтинг': 47,\n",
      "  'Пищевая ценность': 4.0,\n",
      "  'Ссылка': 'https://roscontrol.com/product/kolbasa-russkaya-myasnov/'},\n",
      " {'_id': ObjectId('61292f3ad1dabf3e72ff4514'),\n",
      "  'Безопасность': 66.0,\n",
      "  'Качество': 85.0,\n",
      "  'Наименование': '\"Ерёмкина Татьяна\", \"Докторская\"',\n",
      "  'Натуральность': 65.0,\n",
      "  'Общий рейтинг': 60,\n",
      "  'Пищевая ценность': 24.0,\n",
      "  'Ссылка': 'https://roscontrol.com/product/ermkina-tatyana-doktorskaya/'},\n",
      " {'_id': ObjectId('61292f3ad1dabf3e72ff4515'),\n",
      "  'Безопасность': 59.0,\n",
      "  'Качество': 67.0,\n",
      "  'Наименование': '\"Клинский\" мясокомбинат, \"Докторская\"',\n",
      "  'Натуральность': 45.0,\n",
      "  'Общий рейтинг': 46,\n",
      "  'Пищевая ценность': 12.0,\n",
      "  'Ссылка': 'https://roscontrol.com/product/klinskiy-myasokombinat-doktorskaya/'},\n",
      " {'_id': ObjectId('61292f3ad1dabf3e72ff4516'),\n",
      "  'Безопасность': 72.0,\n",
      "  'Качество': 69.0,\n",
      "  'Наименование': '\"Дымов\", \"Докторская\"',\n",
      "  'Натуральность': 50.0,\n",
      "  'Общий рейтинг': 51,\n",
      "  'Пищевая ценность': 14.0,\n",
      "  'Ссылка': 'https://roscontrol.com/product/kolbasa-dimov-doktorskaya/'},\n",
      " {'_id': ObjectId('61292f3ad1dabf3e72ff4517'),\n",
      "  'Безопасность': 57.0,\n",
      "  'Качество': 69.0,\n",
      "  'Наименование': '\"Рублёвский\", \"Молочная\"',\n",
      "  'Натуральность': 50.0,\n",
      "  'Общий рейтинг': 47,\n",
      "  'Пищевая ценность': 12.0,\n",
      "  'Ссылка': 'https://roscontrol.com/product/kolbasa-rublvskiy-molochnaya/'},\n",
      " {'_id': ObjectId('61292f3ad1dabf3e72ff4518'),\n",
      "  'Безопасность': 68.0,\n",
      "  'Качество': 64.0,\n",
      "  'Наименование': '\"Еремкина Т.П.\", \"Любительская\"',\n",
      "  'Натуральность': 65.0,\n",
      "  'Общий рейтинг': 51,\n",
      "  'Пищевая ценность': 8.0,\n",
      "  'Ссылка': 'https://roscontrol.com/product/kolbasa-eremkina-tp-lyubitelskaya/'},\n",
      " {'_id': ObjectId('61292f3ad1dabf3e72ff4519'),\n",
      "  'Безопасность': 67.0,\n",
      "  'Качество': 71.0,\n",
      "  'Наименование': '\"Окраина\", \"Молочная ГОСТ\"',\n",
      "  'Натуральность': 50.0,\n",
      "  'Общий рейтинг': 49,\n",
      "  'Пищевая ценность': 8.0,\n",
      "  'Ссылка': 'https://roscontrol.com/product/kolbasa-okraina-molochnaya-gost/'},\n",
      " {'_id': ObjectId('61292f3ad1dabf3e72ff4522'),\n",
      "  'Безопасность': 57.0,\n",
      "  'Качество': 60.0,\n",
      "  'Наименование': 'Колбаса \"Малаховский\", \"Докторская\"',\n",
      "  'Натуральность': 30.0,\n",
      "  'Общий рейтинг': 43,\n",
      "  'Пищевая ценность': 23.0,\n",
      "  'Ссылка': 'https://roscontrol.com/product/kolbasa-malahovskiy-doktorskaya/'}]\n"
     ]
    }
   ],
   "source": [
    "pprint(selection)"
   ]
  },
  {
   "cell_type": "code",
   "execution_count": null,
   "id": "12481d12",
   "metadata": {},
   "outputs": [],
   "source": []
  }
 ],
 "metadata": {
  "kernelspec": {
   "display_name": "Python 3",
   "language": "python",
   "name": "python3"
  },
  "language_info": {
   "codemirror_mode": {
    "name": "ipython",
    "version": 3
   },
   "file_extension": ".py",
   "mimetype": "text/x-python",
   "name": "python",
   "nbconvert_exporter": "python",
   "pygments_lexer": "ipython3",
   "version": "3.8.8"
  }
 },
 "nbformat": 4,
 "nbformat_minor": 5
}
