{
 "cells": [
  {
   "cell_type": "code",
   "execution_count": 1,
   "id": "dacce376",
   "metadata": {},
   "outputs": [],
   "source": [
    "from bs4 import BeautifulSoup as bs"
   ]
  },
  {
   "cell_type": "code",
   "execution_count": 2,
   "id": "5cc7ba54",
   "metadata": {},
   "outputs": [],
   "source": [
    "import requests"
   ]
  },
  {
   "cell_type": "code",
   "execution_count": 3,
   "id": "b6ce264b",
   "metadata": {},
   "outputs": [],
   "source": [
    "import pprint"
   ]
  },
  {
   "cell_type": "code",
   "execution_count": 4,
   "id": "ef8f93ba",
   "metadata": {},
   "outputs": [],
   "source": [
    "import pandas as pd"
   ]
  },
  {
   "cell_type": "code",
   "execution_count": 5,
   "id": "313d9c4d",
   "metadata": {},
   "outputs": [],
   "source": [
    "url = 'https://roscontrol.com/category/produkti/'"
   ]
  },
  {
   "cell_type": "code",
   "execution_count": 6,
   "id": "3fc01355",
   "metadata": {},
   "outputs": [],
   "source": [
    "headers = {'User-agent': 'Mozilla/5.0 (Windows NT 10.0; Win64; x64) AppleWebKit/537.36 (KHTML, like Gecko) Chrome/92.0.4515.131 Safari/537.36',\n",
    "           'Accept': '*/*'}"
   ]
  },
  {
   "cell_type": "code",
   "execution_count": 7,
   "id": "1e434864",
   "metadata": {},
   "outputs": [],
   "source": [
    "cat_selection = requests.get(url, headers=headers)"
   ]
  },
  {
   "cell_type": "code",
   "execution_count": 8,
   "id": "b505c42d",
   "metadata": {},
   "outputs": [],
   "source": [
    "soup = bs(cat_selection.text, 'html.parser')"
   ]
  },
  {
   "cell_type": "code",
   "execution_count": 9,
   "id": "9e755017",
   "metadata": {},
   "outputs": [],
   "source": [
    "cat_names = soup.find_all('div',attrs={'class':'catalog__category-name'})"
   ]
  },
  {
   "cell_type": "code",
   "execution_count": 10,
   "id": "5a9e6f34",
   "metadata": {},
   "outputs": [],
   "source": [
    "for i in range(len(cat_names)):\n",
    "    cat_names[i] = cat_names[i].string"
   ]
  },
  {
   "cell_type": "code",
   "execution_count": 11,
   "id": "0d24e9a2",
   "metadata": {
    "scrolled": true
   },
   "outputs": [],
   "source": [
    "cat_links = soup.find_all('a',attrs={'class':'catalog__category-item'})"
   ]
  },
  {
   "cell_type": "code",
   "execution_count": 12,
   "id": "89574042",
   "metadata": {},
   "outputs": [],
   "source": [
    "for i in range(len(cat_links)):\n",
    "    cat_links[i] = cat_links[i]['href'].replace('/category/produkti/', '')"
   ]
  },
  {
   "cell_type": "code",
   "execution_count": 13,
   "id": "1a02f1b9",
   "metadata": {
    "scrolled": true
   },
   "outputs": [],
   "source": [
    "categories = {\n",
    "    \"Наименование\": cat_names,\n",
    "    \"Ссылка\": cat_links\n",
    "}\n",
    "\n",
    "categories = pd.DataFrame(categories)"
   ]
  },
  {
   "cell_type": "code",
   "execution_count": 14,
   "id": "fa8f7bc3",
   "metadata": {
    "scrolled": false
   },
   "outputs": [
    {
     "name": "stdout",
     "output_type": "stream",
     "text": [
      "0                       Молочные продукты \n",
      "1                         Мясные продукты \n",
      "2                                   Птица \n",
      "3                     Рыба и морепродукты \n",
      "4                     Вода, соки, напитки \n",
      "5                   Хлебобулочные изделия \n",
      "6                         Детское питание \n",
      "7                                    Яйца \n",
      "8                                 Бакалея \n",
      "9                         Горячие напитки \n",
      "10                   Кондитерские изделия \n",
      "11                    Алкогольные напитки \n",
      "12                                  Соусы \n",
      "13                          Полуфабрикаты \n",
      "14                     Растительное масло \n",
      "15                               Консервы \n",
      "16                                  Снеки \n",
      "17                   Фрукты, овощи, грибы \n",
      "18                              Маргарины \n",
      "19     Готовые блюда и кулинарные изделия \n",
      "Name: Наименование, dtype: object16\n"
     ]
    }
   ],
   "source": [
    "category = categories.loc[int(input(categories[\"Наименование\"])), \"Ссылка\"]"
   ]
  },
  {
   "cell_type": "code",
   "execution_count": 15,
   "id": "dd62268a",
   "metadata": {
    "scrolled": true
   },
   "outputs": [],
   "source": [
    "subcat_selection = requests.get(url + category, headers=headers)"
   ]
  },
  {
   "cell_type": "code",
   "execution_count": 16,
   "id": "f01ddb71",
   "metadata": {
    "scrolled": true
   },
   "outputs": [],
   "source": [
    "soup = bs(subcat_selection.text, 'html.parser')"
   ]
  },
  {
   "cell_type": "code",
   "execution_count": 17,
   "id": "8bfef0d6",
   "metadata": {},
   "outputs": [
    {
     "name": "stdout",
     "output_type": "stream",
     "text": [
      "0        Чипсы \n",
      "1     Сухарики \n",
      "2      Семечки \n",
      "Name: Наименование, dtype: object2\n"
     ]
    }
   ],
   "source": [
    "subcat_names = soup.find_all('div',attrs={'class':'catalog__category-name'})\n",
    "\n",
    "if subcat_names:\n",
    "    for i in range(len(subcat_names)):\n",
    "        subcat_names[i] = subcat_names[i].string\n",
    "\n",
    "    subcat_links = soup.find_all('a',attrs={'class':'catalog__category-item'})\n",
    "\n",
    "    for i in range(len(subcat_links)):\n",
    "        subcat_links[i] = subcat_links[i]['href'].replace('/category/produkti/' + category, '')\n",
    "\n",
    "    subcategories = {\n",
    "        \"Наименование\": subcat_names,\n",
    "        \"Ссылка\": subcat_links\n",
    "    }\n",
    "\n",
    "    subcategories = pd.DataFrame(subcategories)\n",
    "    subcategory = subcategories.loc[int(input(subcategories[\"Наименование\"])), \"Ссылка\"]\n",
    "else:\n",
    "    subcategory = ''"
   ]
  },
  {
   "cell_type": "code",
   "execution_count": 18,
   "id": "cb00f430",
   "metadata": {},
   "outputs": [],
   "source": [
    "response = requests.get(url + category + subcategory, headers=headers)"
   ]
  },
  {
   "cell_type": "code",
   "execution_count": 19,
   "id": "bbfaa757",
   "metadata": {},
   "outputs": [],
   "source": [
    "soup = bs(response.text, 'html.parser')"
   ]
  },
  {
   "cell_type": "code",
   "execution_count": 20,
   "id": "6f4f5ea6",
   "metadata": {},
   "outputs": [],
   "source": [
    "products = soup.find_all('div', attrs={'class':'wrap-product-catalog__item'})"
   ]
  },
  {
   "cell_type": "code",
   "execution_count": 21,
   "id": "3c11c0c7",
   "metadata": {},
   "outputs": [],
   "source": [
    "products_list = []\n",
    "for product in products:\n",
    "    product_data = {}\n",
    "    name = product.find('div', attrs={'class':'product__item-link'}).getText()\n",
    "    link = 'https://roscontrol.com' + product.contents[1]['href']\n",
    "    try:\n",
    "        rating_status = product.find('div', attrs={'class':'rating-total-text'}).string\n",
    "    except AttributeError:\n",
    "        rating_status = False\n",
    "    if rating_status == 'Общая оценка':\n",
    "        total_rating = product.find('div', attrs={'class':'product-rating'}).contents[1].getText()\n",
    "        rating_block = product.find('div', attrs={'class':'rating-block'})\n",
    "        for row in rating_block.findChildren(recursive=False):\n",
    "            parameter = row.findChildren(recursive=False)[0].findChildren(recursive=False)[0].getText()\n",
    "            value = row.findChildren(recursive=False)[1].getText()\n",
    "            product_data[parameter] = value\n",
    "    elif rating_status == 'В чёрном списке':\n",
    "        total_rating = 'В чёрном списке'\n",
    "    elif not rating_status:\n",
    "        total_rating = 'Нет информации о товаре'\n",
    "    product_data['Наименование'] = name\n",
    "    product_data['Ссылка'] = link\n",
    "    product_data['Общий рейтинг'] = total_rating\n",
    "    \n",
    "    products_list.append(product_data)"
   ]
  },
  {
   "cell_type": "code",
   "execution_count": 22,
   "id": "a2e1d59c",
   "metadata": {
    "scrolled": false
   },
   "outputs": [
    {
     "name": "stdout",
     "output_type": "stream",
     "text": [
      "[{'Безопасность': '80',\n",
      "  'Пищевая ценность': '16',\n",
      "  'Натуральность': '85',\n",
      "  'Качество': '80',\n",
      "  'Наименование': 'Семечки \"ВкусВилл\"',\n",
      "  'Ссылка': 'https://roscontrol.com/product/vkusvill-2/',\n",
      "  'Общий рейтинг': ' 61 '},\n",
      " {'Безопасность': '72',\n",
      "  'Пищевая ценность': '26',\n",
      "  'Натуральность': '85',\n",
      "  'Качество': '72',\n",
      "  'Наименование': 'Семечки \"Бабкины семечки\"',\n",
      "  'Ссылка': 'https://roscontrol.com/product/babkini-semechki/',\n",
      "  'Общий рейтинг': ' 60 '},\n",
      " {'Безопасность': '75',\n",
      "  'Пищевая ценность': '19',\n",
      "  'Натуральность': '85',\n",
      "  'Качество': '75',\n",
      "  'Наименование': 'Семечки \"От Мартина\"',\n",
      "  'Ссылка': 'https://roscontrol.com/product/semechki-ot-martina/',\n",
      "  'Общий рейтинг': ' 59 '},\n",
      " {'Безопасность': '73',\n",
      "  'Пищевая ценность': '18',\n",
      "  'Натуральность': '85',\n",
      "  'Качество': '73',\n",
      "  'Наименование': 'Семечки \"Золотая семечка\"',\n",
      "  'Ссылка': 'https://roscontrol.com/product/zolotaya-semechka/',\n",
      "  'Общий рейтинг': ' 58 '},\n",
      " {'Безопасность': '65',\n",
      "  'Пищевая ценность': '22',\n",
      "  'Натуральность': '85',\n",
      "  'Качество': '65',\n",
      "  'Наименование': 'Семечки \"Кубанские\"',\n",
      "  'Ссылка': 'https://roscontrol.com/product/kubanskie-semechki/',\n",
      "  'Общий рейтинг': ' 54 '},\n",
      " {'Безопасность': '70',\n",
      "  'Пищевая ценность': '9',\n",
      "  'Натуральность': '90',\n",
      "  'Качество': '70',\n",
      "  'Наименование': 'Семечки \"Красная цена\"',\n",
      "  'Ссылка': 'https://roscontrol.com/product/krasnaya-tsena-4/',\n",
      "  'Общий рейтинг': ' 54 '},\n",
      " {'Безопасность': '70',\n",
      "  'Пищевая ценность': '3',\n",
      "  'Натуральность': '90',\n",
      "  'Качество': '70',\n",
      "  'Наименование': 'Семечки \"Плёвое дело\"',\n",
      "  'Ссылка': 'https://roscontrol.com/product/plvoe-delo/',\n",
      "  'Общий рейтинг': ' 52 '},\n",
      " {'Безопасность': '73',\n",
      "  'Пищевая ценность': '4',\n",
      "  'Натуральность': '90',\n",
      "  'Качество': '73',\n",
      "  'Наименование': 'Семечки \"Каждый день\"',\n",
      "  'Ссылка': 'https://roscontrol.com/product/kagdiy-den-7/',\n",
      "  'Общий рейтинг': ' 54 '},\n",
      " {'Безопасность': '30',\n",
      "  'Пищевая ценность': '17',\n",
      "  'Натуральность': '85',\n",
      "  'Качество': '30',\n",
      "  'Наименование': 'Семечки \"От Атамана\"',\n",
      "  'Ссылка': 'https://roscontrol.com/product/semechki-ot-atamana/',\n",
      "  'Общий рейтинг': '32'},\n",
      " {'Безопасность': '54',\n",
      "  'Пищевая ценность': '0',\n",
      "  'Натуральность': '90',\n",
      "  'Качество': '54',\n",
      "  'Наименование': 'Семечки \"Степановна\"',\n",
      "  'Ссылка': 'https://roscontrol.com/product/stepanovna/',\n",
      "  'Общий рейтинг': '41'},\n",
      " {'Безопасность': '68',\n",
      "  'Пищевая ценность': '3',\n",
      "  'Натуральность': '90',\n",
      "  'Качество': '68',\n",
      "  'Наименование': 'Семечки \"Ciko\"',\n",
      "  'Ссылка': 'https://roscontrol.com/product/ciko/',\n",
      "  'Общий рейтинг': '51'}]\n"
     ]
    }
   ],
   "source": [
    "pprint.pp(products_list, sort_dicts=False)"
   ]
  },
  {
   "cell_type": "code",
   "execution_count": null,
   "id": "03a1097e",
   "metadata": {},
   "outputs": [],
   "source": []
  }
 ],
 "metadata": {
  "kernelspec": {
   "display_name": "Python 3",
   "language": "python",
   "name": "python3"
  },
  "language_info": {
   "codemirror_mode": {
    "name": "ipython",
    "version": 3
   },
   "file_extension": ".py",
   "mimetype": "text/x-python",
   "name": "python",
   "nbconvert_exporter": "python",
   "pygments_lexer": "ipython3",
   "version": "3.8.8"
  }
 },
 "nbformat": 4,
 "nbformat_minor": 5
}
