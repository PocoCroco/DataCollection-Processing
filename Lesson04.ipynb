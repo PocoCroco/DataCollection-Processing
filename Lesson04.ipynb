{
 "cells": [
  {
   "cell_type": "code",
   "execution_count": 1,
   "id": "3851853a",
   "metadata": {},
   "outputs": [],
   "source": [
    "from lxml import html\n",
    "import requests\n",
    "from pprint import pprint\n",
    "from pymongo import MongoClient\n",
    "from pprint import pprint"
   ]
  },
  {
   "cell_type": "code",
   "execution_count": 2,
   "id": "045ad415",
   "metadata": {},
   "outputs": [],
   "source": [
    "url = 'https://news.mail.ru/'"
   ]
  },
  {
   "cell_type": "code",
   "execution_count": 3,
   "id": "6f403cbd",
   "metadata": {},
   "outputs": [],
   "source": [
    "headers = {'User-Agent':'Mozilla/5.0 (Windows NT 10.0; Win64; x64) AppleWebKit/537.36 (KHTML, like Gecko) Chrome/92.0.4515.131 Safari/537.36'}"
   ]
  },
  {
   "cell_type": "code",
   "execution_count": 4,
   "id": "07a3cd26",
   "metadata": {},
   "outputs": [],
   "source": [
    "response = requests.get(url, headers=headers)"
   ]
  },
  {
   "cell_type": "code",
   "execution_count": 5,
   "id": "e6d031e7",
   "metadata": {},
   "outputs": [],
   "source": [
    "dom = html.fromstring(response.text)"
   ]
  },
  {
   "cell_type": "code",
   "execution_count": 6,
   "id": "bf9685db",
   "metadata": {},
   "outputs": [],
   "source": [
    "item_list = []"
   ]
  },
  {
   "cell_type": "code",
   "execution_count": 7,
   "id": "1d886110",
   "metadata": {},
   "outputs": [],
   "source": [
    "# the main article\n",
    "item_info = {}\n",
    "name = dom.xpath('//span[contains(@class, \"photo__title_new\")]//text()')[0].replace('\\xa0', ' ')\n",
    "link = dom.xpath('//td[@class=\"daynews__main\"]//@href')[0]\n",
    "response_main = requests.get(link, headers=headers)\n",
    "dom_1 = html.fromstring(response_main.text)\n",
    "date = dom_1.xpath('//span/@datetime')[0]\n",
    "source = dom_1.xpath('//span[@class=\"note\"]/*/span[@class=\"link__text\"]//text()')[0]\n",
    "\n",
    "item_info['name'] = name\n",
    "item_info['link'] = link\n",
    "item_info['date'] = date\n",
    "item_info['source'] = source\n",
    "item_list.append(item_info)"
   ]
  },
  {
   "cell_type": "code",
   "execution_count": 8,
   "id": "6b88f2a4",
   "metadata": {},
   "outputs": [],
   "source": [
    "items = dom.xpath('//div[@class=\"daynews__item\"]')"
   ]
  },
  {
   "cell_type": "code",
   "execution_count": 9,
   "id": "e3e71c85",
   "metadata": {
    "scrolled": false
   },
   "outputs": [],
   "source": [
    "# articles with a photo\n",
    "for item in items:\n",
    "    item_info = {}\n",
    "    name = item.xpath('.//span[contains(@class, \"photo__title_new\")]//text()')[0].replace('\\xa0', ' ')\n",
    "    link = item.xpath('.//@href')[0]\n",
    "    response_main = requests.get(link, headers=headers)\n",
    "    dom_1 = html.fromstring(response_main.text)\n",
    "    date = dom_1.xpath('//span/@datetime')[0]\n",
    "    source = dom_1.xpath('//span[@class=\"note\"]/*/span[@class=\"link__text\"]//text()')[0]\n",
    "    \n",
    "    item_info['name'] = name\n",
    "    item_info['link'] = link\n",
    "    item_info['date'] = date\n",
    "    item_info['source'] = source\n",
    "    item_list.append(item_info)\n",
    "    \n",
    "    "
   ]
  },
  {
   "cell_type": "code",
   "execution_count": 10,
   "id": "40c3bcf8",
   "metadata": {},
   "outputs": [],
   "source": [
    "items_below = dom.xpath('//ul[contains(@class, \"list_half\")]/li[@class=\"list__item\"]')"
   ]
  },
  {
   "cell_type": "code",
   "execution_count": null,
   "id": "6775d88c",
   "metadata": {},
   "outputs": [],
   "source": [
    "# articles without photos\n",
    "for item in items_below:\n",
    "    item_info = {}\n",
    "    name = item.xpath('./a//text()')[0].replace('\\xa0', ' ')\n",
    "    link = item.xpath('.//@href')[0]\n",
    "    response_main = requests.get(link, headers=headers)\n",
    "    dom_1 = html.fromstring(response_main.text)\n",
    "    date = dom_1.xpath('//span/@datetime')[0]\n",
    "    source = dom_1.xpath('//span[@class=\"note\"]/*/span[@class=\"link__text\"]//text()')[0]\n",
    "    \n",
    "    item_info['name'] = name\n",
    "    item_info['link'] = link\n",
    "    item_info['date'] = date\n",
    "    item_info['source'] = source\n",
    "    item_list.append(item_info)"
   ]
  },
  {
   "cell_type": "code",
   "execution_count": null,
   "id": "9d690bc4",
   "metadata": {},
   "outputs": [],
   "source": [
    "item_list"
   ]
  },
  {
   "cell_type": "code",
   "execution_count": null,
   "id": "c3b74ff3",
   "metadata": {
    "scrolled": true
   },
   "outputs": [],
   "source": [
    "client = MongoClient('127.0.0.1', 27017)"
   ]
  },
  {
   "cell_type": "code",
   "execution_count": null,
   "id": "aa2ab45b",
   "metadata": {},
   "outputs": [],
   "source": [
    "db = client['articles']"
   ]
  },
  {
   "cell_type": "code",
   "execution_count": null,
   "id": "5ae2dfaa",
   "metadata": {},
   "outputs": [],
   "source": [
    "mailru = db.mailru"
   ]
  },
  {
   "cell_type": "code",
   "execution_count": null,
   "id": "95f5c0c4",
   "metadata": {},
   "outputs": [],
   "source": [
    "mailru.insert_many(item_list)"
   ]
  },
  {
   "cell_type": "code",
   "execution_count": null,
   "id": "d107c869",
   "metadata": {},
   "outputs": [],
   "source": [
    "item_list"
   ]
  },
  {
   "cell_type": "code",
   "execution_count": null,
   "id": "a37b2ee3",
   "metadata": {},
   "outputs": [],
   "source": []
  }
 ],
 "metadata": {
  "kernelspec": {
   "display_name": "Python 3",
   "language": "python",
   "name": "python3"
  },
  "language_info": {
   "codemirror_mode": {
    "name": "ipython",
    "version": 3
   },
   "file_extension": ".py",
   "mimetype": "text/x-python",
   "name": "python",
   "nbconvert_exporter": "python",
   "pygments_lexer": "ipython3",
   "version": "3.8.8"
  }
 },
 "nbformat": 4,
 "nbformat_minor": 5
}
